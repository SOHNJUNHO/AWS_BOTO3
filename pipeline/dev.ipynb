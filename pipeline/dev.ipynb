{
 "cells": [
  {
   "cell_type": "code",
   "execution_count": 3,
   "metadata": {},
   "outputs": [
    {
     "name": "stdout",
     "output_type": "stream",
     "text": [
      "\n",
      "            SELECT '201305' AS YYYYMM, * \n",
      "            FROM actor \n",
      "            WHERE TO_CHAR(CAST(last_update AS DATE), 'YYYYMM') = '201305'\n",
      "            ;\n",
      "        \n"
     ]
    },
    {
     "name": "stderr",
     "output_type": "stream",
     "text": [
      "C:\\Users\\user\\AppData\\Local\\Temp\\ipykernel_3376\\4114771293.py:83: UserWarning: pandas only supports SQLAlchemy connectable (engine/connection) or database string URI or sqlite3 DBAPI2 connection. Other DBAPI2 objects are not tested. Please consider using SQLAlchemy.\n",
      "  pdf_sql = pd.read_sql(queries['read']['actor'], db._postgre_connect())\n"
     ]
    },
    {
     "data": {
      "text/html": [
       "<div>\n",
       "<style scoped>\n",
       "    .dataframe tbody tr th:only-of-type {\n",
       "        vertical-align: middle;\n",
       "    }\n",
       "\n",
       "    .dataframe tbody tr th {\n",
       "        vertical-align: top;\n",
       "    }\n",
       "\n",
       "    .dataframe thead th {\n",
       "        text-align: right;\n",
       "    }\n",
       "</style>\n",
       "<table border=\"1\" class=\"dataframe\">\n",
       "  <thead>\n",
       "    <tr style=\"text-align: right;\">\n",
       "      <th></th>\n",
       "      <th>yyyymm</th>\n",
       "      <th>actor_id</th>\n",
       "      <th>first_name</th>\n",
       "      <th>last_name</th>\n",
       "      <th>last_update</th>\n",
       "    </tr>\n",
       "  </thead>\n",
       "  <tbody>\n",
       "    <tr>\n",
       "      <th>0</th>\n",
       "      <td>201305</td>\n",
       "      <td>1</td>\n",
       "      <td>Penelope</td>\n",
       "      <td>Guiness</td>\n",
       "      <td>2013-05-26 14:47:57.620</td>\n",
       "    </tr>\n",
       "    <tr>\n",
       "      <th>1</th>\n",
       "      <td>201305</td>\n",
       "      <td>2</td>\n",
       "      <td>Nick</td>\n",
       "      <td>Wahlberg</td>\n",
       "      <td>2013-05-26 14:47:57.620</td>\n",
       "    </tr>\n",
       "    <tr>\n",
       "      <th>2</th>\n",
       "      <td>201305</td>\n",
       "      <td>3</td>\n",
       "      <td>Ed</td>\n",
       "      <td>Chase</td>\n",
       "      <td>2013-05-26 14:47:57.620</td>\n",
       "    </tr>\n",
       "    <tr>\n",
       "      <th>3</th>\n",
       "      <td>201305</td>\n",
       "      <td>4</td>\n",
       "      <td>Jennifer</td>\n",
       "      <td>Davis</td>\n",
       "      <td>2013-05-26 14:47:57.620</td>\n",
       "    </tr>\n",
       "    <tr>\n",
       "      <th>4</th>\n",
       "      <td>201305</td>\n",
       "      <td>5</td>\n",
       "      <td>Johnny</td>\n",
       "      <td>Lollobrigida</td>\n",
       "      <td>2013-05-26 14:47:57.620</td>\n",
       "    </tr>\n",
       "  </tbody>\n",
       "</table>\n",
       "</div>"
      ],
      "text/plain": [
       "   yyyymm  actor_id first_name     last_name             last_update\n",
       "0  201305         1   Penelope       Guiness 2013-05-26 14:47:57.620\n",
       "1  201305         2       Nick      Wahlberg 2013-05-26 14:47:57.620\n",
       "2  201305         3         Ed         Chase 2013-05-26 14:47:57.620\n",
       "3  201305         4   Jennifer         Davis 2013-05-26 14:47:57.620\n",
       "4  201305         5     Johnny  Lollobrigida 2013-05-26 14:47:57.620"
      ]
     },
     "metadata": {},
     "output_type": "display_data"
    },
    {
     "name": "stdout",
     "output_type": "stream",
     "text": [
      "<class 'pandas.core.frame.DataFrame'>\n",
      "RangeIndex: 200 entries, 0 to 199\n",
      "Data columns (total 5 columns):\n",
      " #   Column       Non-Null Count  Dtype         \n",
      "---  ------       --------------  -----         \n",
      " 0   yyyymm       200 non-null    object        \n",
      " 1   actor_id     200 non-null    int64         \n",
      " 2   first_name   200 non-null    object        \n",
      " 3   last_name    200 non-null    object        \n",
      " 4   last_update  200 non-null    datetime64[ns]\n",
      "dtypes: datetime64[ns](1), int64(1), object(3)\n",
      "memory usage: 7.9+ KB\n"
     ]
    }
   ],
   "source": [
    "DB_SETTINGS = {\n",
    "    'source_db_localhost' : {\n",
    "        'location' : 'localhost_source',\n",
    "        'host' : \"127.0.0.1\",\n",
    "        'port' : \"5432\",\n",
    "        'user' : \"postgres\",\n",
    "        'password' : \"208300\",\n",
    "        'database' : \"dvdrental\",\n",
    "        'engine' : 'postgre'\n",
    "    }\n",
    "}\n",
    "DB_SETTINGS['source_db_localhost']\n",
    "\n",
    "\n",
    "##########\n",
    "\n",
    "\n",
    "import psycopg2 as postgre\n",
    "#import pymssql as mssql\n",
    "#import pymysql as mysql\n",
    "\n",
    "import pandas as pd\n",
    "\n",
    "class DBConnector:\n",
    "    def __init__(self, location, host, port, user, password, database, engine):\n",
    "        self.conn_params = dict(\n",
    "            host = host,\n",
    "            port = port,\n",
    "            user = user,\n",
    "            password = password,\n",
    "            database = database\n",
    "        )\n",
    "        # self.conn = None\n",
    "\n",
    "    def _postgre_connect(self):\n",
    "        conn = postgre.connect(**self.conn_params)\n",
    "        return conn\n",
    "\n",
    "db = DBConnector(**DB_SETTINGS['source_db_localhost'])\n",
    "db._postgre_connect()\n",
    "\n",
    "\n",
    "##########\n",
    "\n",
    "\n",
    "batch_month = '201305'\n",
    "\n",
    "queries = {\n",
    "    'read': {\n",
    "        'actor': f'''\n",
    "            SELECT '{batch_month}' AS YYYYMM, * \n",
    "            FROM actor \n",
    "            WHERE TO_CHAR(CAST(last_update AS DATE), 'YYYYMM') = '{batch_month}'\n",
    "            ;\n",
    "        ''',\n",
    "        'film': f'''\n",
    "            SELECT '{batch_month}' AS YYYYMM, * \n",
    "            FROM film \n",
    "            WHERE TO_CHAR(CAST(last_update AS DATE), 'YYYYMM') = '{batch_month}'\n",
    "            ;\n",
    "        '''}\n",
    "    }\n",
    "\n",
    "print(queries['read']['actor'])\n",
    "\n",
    "\n",
    "##########\n",
    "\n",
    "\n",
    "#cur = db._postgre_connect().cursor()\n",
    "#cur.execute(queries['read']['actor'])\n",
    "\n",
    "#result_all = cur.fetchall()\n",
    "#print(result_all[:5])\n",
    "\n",
    "#pdf = pd.DataFrame(result_all)\n",
    "#pdf.head()\n",
    "\n",
    "\n",
    "##########\n",
    "\n",
    "\n",
    "pdf_sql = pd.read_sql(queries['read']['actor'], db._postgre_connect())\n",
    "display(pdf_sql.head())\n",
    "pdf_sql.info()"
   ]
  },
  {
   "cell_type": "code",
   "execution_count": 7,
   "metadata": {},
   "outputs": [
    {
     "name": "stderr",
     "output_type": "stream",
     "text": [
      "C:\\Users\\user\\AppData\\Local\\Temp\\ipykernel_3376\\12080948.py:1: UserWarning: pandas only supports SQLAlchemy connectable (engine/connection) or database string URI or sqlite3 DBAPI2 connection. Other DBAPI2 objects are not tested. Please consider using SQLAlchemy.\n",
      "  _dtype = pd.read_sql_query(\"\"\"SELECT column_name, data_type FROM information_schema.\"columns\" WHERE table_name = 'film';\"\"\", db._postgre_connect())\n"
     ]
    },
    {
     "data": {
      "text/html": [
       "<div>\n",
       "<style scoped>\n",
       "    .dataframe tbody tr th:only-of-type {\n",
       "        vertical-align: middle;\n",
       "    }\n",
       "\n",
       "    .dataframe tbody tr th {\n",
       "        vertical-align: top;\n",
       "    }\n",
       "\n",
       "    .dataframe thead th {\n",
       "        text-align: right;\n",
       "    }\n",
       "</style>\n",
       "<table border=\"1\" class=\"dataframe\">\n",
       "  <thead>\n",
       "    <tr style=\"text-align: right;\">\n",
       "      <th></th>\n",
       "      <th>column_name</th>\n",
       "      <th>data_type</th>\n",
       "    </tr>\n",
       "  </thead>\n",
       "  <tbody>\n",
       "    <tr>\n",
       "      <th>0</th>\n",
       "      <td>fulltext</td>\n",
       "      <td>tsvector</td>\n",
       "    </tr>\n",
       "    <tr>\n",
       "      <th>1</th>\n",
       "      <td>rating</td>\n",
       "      <td>USER-DEFINED</td>\n",
       "    </tr>\n",
       "    <tr>\n",
       "      <th>2</th>\n",
       "      <td>last_update</td>\n",
       "      <td>timestamp without time zone</td>\n",
       "    </tr>\n",
       "    <tr>\n",
       "      <th>3</th>\n",
       "      <td>film_id</td>\n",
       "      <td>integer</td>\n",
       "    </tr>\n",
       "    <tr>\n",
       "      <th>4</th>\n",
       "      <td>release_year</td>\n",
       "      <td>integer</td>\n",
       "    </tr>\n",
       "    <tr>\n",
       "      <th>5</th>\n",
       "      <td>language_id</td>\n",
       "      <td>smallint</td>\n",
       "    </tr>\n",
       "    <tr>\n",
       "      <th>6</th>\n",
       "      <td>rental_duration</td>\n",
       "      <td>smallint</td>\n",
       "    </tr>\n",
       "    <tr>\n",
       "      <th>7</th>\n",
       "      <td>rental_rate</td>\n",
       "      <td>numeric</td>\n",
       "    </tr>\n",
       "    <tr>\n",
       "      <th>8</th>\n",
       "      <td>length</td>\n",
       "      <td>smallint</td>\n",
       "    </tr>\n",
       "    <tr>\n",
       "      <th>9</th>\n",
       "      <td>replacement_cost</td>\n",
       "      <td>numeric</td>\n",
       "    </tr>\n",
       "    <tr>\n",
       "      <th>10</th>\n",
       "      <td>title</td>\n",
       "      <td>character varying</td>\n",
       "    </tr>\n",
       "    <tr>\n",
       "      <th>11</th>\n",
       "      <td>description</td>\n",
       "      <td>text</td>\n",
       "    </tr>\n",
       "    <tr>\n",
       "      <th>12</th>\n",
       "      <td>special_features</td>\n",
       "      <td>ARRAY</td>\n",
       "    </tr>\n",
       "  </tbody>\n",
       "</table>\n",
       "</div>"
      ],
      "text/plain": [
       "         column_name                    data_type\n",
       "0           fulltext                     tsvector\n",
       "1             rating                 USER-DEFINED\n",
       "2        last_update  timestamp without time zone\n",
       "3            film_id                      integer\n",
       "4       release_year                      integer\n",
       "5        language_id                     smallint\n",
       "6    rental_duration                     smallint\n",
       "7        rental_rate                      numeric\n",
       "8             length                     smallint\n",
       "9   replacement_cost                      numeric\n",
       "10             title            character varying\n",
       "11       description                         text\n",
       "12  special_features                        ARRAY"
      ]
     },
     "execution_count": 7,
     "metadata": {},
     "output_type": "execute_result"
    }
   ],
   "source": [
    "_dtype = pd.read_sql_query(\"\"\"SELECT column_name, data_type FROM information_schema.\"columns\" WHERE table_name = 'film';\"\"\", db._postgre_connect())\n",
    "_dtype"
   ]
  },
  {
   "cell_type": "code",
   "execution_count": 8,
   "metadata": {},
   "outputs": [
    {
     "data": {
      "text/plain": [
       "array([['fulltext', 'tsvector'],\n",
       "       ['rating', 'USER-DEFINED'],\n",
       "       ['last_update', 'timestamp without time zone'],\n",
       "       ['film_id', 'integer'],\n",
       "       ['release_year', 'integer'],\n",
       "       ['language_id', 'smallint'],\n",
       "       ['rental_duration', 'smallint'],\n",
       "       ['rental_rate', 'numeric'],\n",
       "       ['length', 'smallint'],\n",
       "       ['replacement_cost', 'numeric'],\n",
       "       ['title', 'character varying'],\n",
       "       ['description', 'text'],\n",
       "       ['special_features', 'ARRAY']], dtype=object)"
      ]
     },
     "execution_count": 8,
     "metadata": {},
     "output_type": "execute_result"
    }
   ],
   "source": [
    "_dtype.values"
   ]
  },
  {
   "cell_type": "code",
   "execution_count": 15,
   "metadata": {},
   "outputs": [
    {
     "data": {
      "text/plain": [
       "Series([], Name: data_type, dtype: object)"
      ]
     },
     "execution_count": 15,
     "metadata": {},
     "output_type": "execute_result"
    }
   ],
   "source": [
    "_bool = _dtype[_dtype.data_type.str.contains('bit', regex = True)].copy()\n",
    "_bool\n",
    "_bool['data_type']"
   ]
  },
  {
   "cell_type": "code",
   "execution_count": 14,
   "metadata": {},
   "outputs": [
    {
     "data": {
      "text/html": [
       "<div>\n",
       "<style scoped>\n",
       "    .dataframe tbody tr th:only-of-type {\n",
       "        vertical-align: middle;\n",
       "    }\n",
       "\n",
       "    .dataframe tbody tr th {\n",
       "        vertical-align: top;\n",
       "    }\n",
       "\n",
       "    .dataframe thead th {\n",
       "        text-align: right;\n",
       "    }\n",
       "</style>\n",
       "<table border=\"1\" class=\"dataframe\">\n",
       "  <thead>\n",
       "    <tr style=\"text-align: right;\">\n",
       "      <th></th>\n",
       "      <th>column_name</th>\n",
       "      <th>data_type</th>\n",
       "    </tr>\n",
       "  </thead>\n",
       "  <tbody>\n",
       "  </tbody>\n",
       "</table>\n",
       "</div>"
      ],
      "text/plain": [
       "Empty DataFrame\n",
       "Columns: [column_name, data_type]\n",
       "Index: []"
      ]
     },
     "execution_count": 14,
     "metadata": {},
     "output_type": "execute_result"
    }
   ],
   "source": [
    "_int = _dtype[_dtype.data_type.str.contains('tinyint|smallint|int|bigint|NUMBER', regex = True)].copy()\n",
    "_int"
   ]
  },
  {
   "cell_type": "code",
   "execution_count": 10,
   "metadata": {},
   "outputs": [
    {
     "ename": "NameError",
     "evalue": "name '_query' is not defined",
     "output_type": "error",
     "traceback": [
      "\u001b[1;31m---------------------------------------------------------------------------\u001b[0m",
      "\u001b[1;31mNameError\u001b[0m                                 Traceback (most recent call last)",
      "Cell \u001b[1;32mIn[10], line 17\u001b[0m\n\u001b[0;32m     13\u001b[0m _datetime[\u001b[39m'\u001b[39m\u001b[39mdata_type\u001b[39m\u001b[39m'\u001b[39m] \u001b[39m=\u001b[39m \u001b[39m'\u001b[39m\u001b[39mdatetime64\u001b[39m\u001b[39m'\u001b[39m\n\u001b[0;32m     15\u001b[0m _dtype \u001b[39m=\u001b[39m pd\u001b[39m.\u001b[39mconcat([_bool, _int, _float, _datetime])\n\u001b[1;32m---> 17\u001b[0m pandas_df \u001b[39m=\u001b[39m pd\u001b[39m.\u001b[39mread_sql_query(_query, connected\u001b[39m.\u001b[39mconn, dtype \u001b[39m=\u001b[39m \u001b[39mdict\u001b[39m(_dtype\u001b[39m.\u001b[39mvalues))\n\u001b[0;32m     19\u001b[0m pandas_df[_bool\u001b[39m.\u001b[39mCOLUMN_NAME] \u001b[39m=\u001b[39m pandas_df[_bool\u001b[39m.\u001b[39mCOLUMN_NAME]\u001b[39m.\u001b[39mastype(pd\u001b[39m.\u001b[39mInt64Dtype()) \u001b[39m# float 으로 선언된 bool type을 null 허용하는 pd.Int64Dtype()으로 변환, np.int64 사용하면 null 허용하지 않아 오류 남\u001b[39;00m\n\u001b[0;32m     20\u001b[0m pandas_df[_int\u001b[39m.\u001b[39mCOLUMN_NAME] \u001b[39m=\u001b[39m pandas_df[_int\u001b[39m.\u001b[39mCOLUMN_NAME]\u001b[39m.\u001b[39mastype(pd\u001b[39m.\u001b[39mInt64Dtype()) \u001b[39m# float 으로 선언된 int type을 null 허용하는 pd.Int64Dtype()으로 변환, np.int64 사용하면 null 허용하지 않아 오류 남\u001b[39;00m\n",
      "\u001b[1;31mNameError\u001b[0m: name '_query' is not defined"
     ]
    }
   ],
   "source": [
    "\n",
    "_bool = _dtype[_dtype.data_type.str.contains('bit', regex = True)].copy()\n",
    "_bool['data_type'] = 'float64' # bit type을 True/False 값이 아닌 float 으로 초기 선언 (0.0, 1.0, null)\n",
    "# bool 선언시 null == False, int64 선언시 null 허용하지 않아 오류 남, Int64 선언시 bit type의 값이 True/False의 string으로 read 되어 integertype 으로 converting 불가\n",
    "\n",
    "_int = _dtype[_dtype.data_type.str.contains('tinyint|smallint|int|bigint|NUMBER', regex = True)].copy()\n",
    "_int['data_type'] = 'float64' # int type을 null 허용하는 float 으로 초기 선언 (float, null)\n",
    "# int64 선언시 null 허용하지 않아 오류 남, Int64 선언해도 되지만 안전성을 위해 float으로 초기값 선언\n",
    "\n",
    "_float = _dtype[_dtype.data_type.str.contains('float|real', regex = True)].copy()\n",
    "_float['data_type'] = 'float64'\n",
    "\n",
    "_datetime = _dtype[_dtype.data_type.str.contains('date|datetime|datetime2|DATE', regex = True)].copy()\n",
    "_datetime['data_type'] = 'datetime64'\n",
    "\n",
    "_dtype = pd.concat([_bool, _int, _float, _datetime])\n",
    "\n",
    "pandas_df = pd.read_sql_query(_query, connected.conn, dtype = dict(_dtype.values))\n",
    "\n",
    "pandas_df[_bool.COLUMN_NAME] = pandas_df[_bool.COLUMN_NAME].astype(pd.Int64Dtype()) # float 으로 선언된 bool type을 null 허용하는 pd.Int64Dtype()으로 변환, np.int64 사용하면 null 허용하지 않아 오류 남\n",
    "pandas_df[_int.COLUMN_NAME] = pandas_df[_int.COLUMN_NAME].astype(pd.Int64Dtype()) # float 으로 선언된 int type을 null 허용하는 pd.Int64Dtype()으로 변환, np.int64 사용하면 null 허용하지 않아 오류 남\n",
    "            \n",
    "for col in pandas_df.select_dtypes('object').columns:\n",
    "                pandas_df[col] = pandas_df[col].astype(str)"
   ]
  },
  {
   "cell_type": "code",
   "execution_count": null,
   "metadata": {},
   "outputs": [],
   "source": []
  }
 ],
 "metadata": {
  "kernelspec": {
   "display_name": "Python 3.9.13 64-bit",
   "language": "python",
   "name": "python3"
  },
  "language_info": {
   "codemirror_mode": {
    "name": "ipython",
    "version": 3
   },
   "file_extension": ".py",
   "mimetype": "text/x-python",
   "name": "python",
   "nbconvert_exporter": "python",
   "pygments_lexer": "ipython3",
   "version": "3.9.13"
  },
  "orig_nbformat": 4,
  "vscode": {
   "interpreter": {
    "hash": "82ed002fa2d4956f5c6aec99bcefe0f73a9f79882f3c9e2319b14958a5896ac5"
   }
  }
 },
 "nbformat": 4,
 "nbformat_minor": 2
}
